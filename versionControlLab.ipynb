{
 "cells": [
  {
   "cell_type": "code",
   "execution_count": 3,
   "id": "4eba3831-fbd0-4d38-9c87-abb2b504dafd",
   "metadata": {
    "tags": []
   },
   "outputs": [
    {
     "name": "stdin",
     "output_type": "stream",
     "text": [
      "Enter your name:  assad\n",
      "Enter a number:  4\n"
     ]
    },
    {
     "name": "stdout",
     "output_type": "stream",
     "text": [
      "Hello, assad! The square of 4.0 is 16.0.\n"
     ]
    }
   ],
   "source": [
    "name = input(\"Enter your name: \")\n",
    "number = input(\"Enter a number: \")\n",
    "\n",
    "# Ensure the input is a number\n",
    "try:\n",
    "    number = float(number)\n",
    "    squared = number ** 2\n",
    "    print(f\"Hello, {name}! The square of {number} is {squared}.\")\n",
    "except ValueError:\n",
    "    print(\"Please enter a valid number.\")\n"
   ]
  },
  {
   "cell_type": "code",
   "execution_count": null,
   "id": "8ac57255-0917-44e4-a646-9d07cba1d589",
   "metadata": {},
   "outputs": [],
   "source": []
  }
 ],
 "metadata": {
  "kernelspec": {
   "display_name": "Python 3 (ipykernel)",
   "language": "python",
   "name": "python3"
  },
  "language_info": {
   "codemirror_mode": {
    "name": "ipython",
    "version": 3
   },
   "file_extension": ".py",
   "mimetype": "text/x-python",
   "name": "python",
   "nbconvert_exporter": "python",
   "pygments_lexer": "ipython3",
   "version": "3.11.5"
  }
 },
 "nbformat": 4,
 "nbformat_minor": 5
}
